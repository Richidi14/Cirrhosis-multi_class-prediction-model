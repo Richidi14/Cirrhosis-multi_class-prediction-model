{
 "cells": [
  {
   "cell_type": "markdown",
   "id": "2dd23af0",
   "metadata": {},
   "source": [
    "# Multi-Class prediction Model for Cirrhosis Patients"
   ]
  },
  {
   "cell_type": "code",
   "execution_count": 2,
   "id": "424f47f0",
   "metadata": {},
   "outputs": [
    {
     "data": {
      "text/plain": [
       "'The aim of the project is to build a multi-class prediction model for patients with Liver Cirrhosis\\nThe Target variable is Status. C- means the patient is alive at N-days. CL means the patient is alive \\nat N-days due to a liver transplant. D means the patient is deceased at N-Days'"
      ]
     },
     "execution_count": 2,
     "metadata": {},
     "output_type": "execute_result"
    }
   ],
   "source": [
    "'''The aim of the project is to build a multi-class prediction model for patients with Liver Cirrhosis\n",
    "The Target variable is Status. C- means the patient is alive at N-days. CL means the patient is alive \n",
    "at N-days due to a liver transplant. D means the patient is deceased at N-Days'''"
   ]
  },
  {
   "cell_type": "code",
   "execution_count": 3,
   "id": "f032a403",
   "metadata": {},
   "outputs": [],
   "source": [
    "import numpy as np\n",
    "import pandas as pd\n",
    "import matplotlib.pyplot as plt\n",
    "from sklearn.model_selection import train_test_split\n",
    "from sklearn.preprocessing import StandardScaler\n",
    "from sklearn.linear_model import LogisticRegression\n",
    "from sklearn.tree import DecisionTreeClassifier\n",
    "from sklearn.ensemble import RandomForestClassifier\n",
    "from sklearn.svm import SVC"
   ]
  },
  {
   "cell_type": "markdown",
   "id": "33c33ae3",
   "metadata": {},
   "source": [
    "# Importing your data"
   ]
  },
  {
   "cell_type": "code",
   "execution_count": 4,
   "id": "f9269b6a",
   "metadata": {},
   "outputs": [],
   "source": [
    "data=pd.read_csv('train.csv')"
   ]
  },
  {
   "cell_type": "code",
   "execution_count": 5,
   "id": "0968941d",
   "metadata": {},
   "outputs": [
    {
     "data": {
      "text/html": [
       "<div>\n",
       "<style scoped>\n",
       "    .dataframe tbody tr th:only-of-type {\n",
       "        vertical-align: middle;\n",
       "    }\n",
       "\n",
       "    .dataframe tbody tr th {\n",
       "        vertical-align: top;\n",
       "    }\n",
       "\n",
       "    .dataframe thead th {\n",
       "        text-align: right;\n",
       "    }\n",
       "</style>\n",
       "<table border=\"1\" class=\"dataframe\">\n",
       "  <thead>\n",
       "    <tr style=\"text-align: right;\">\n",
       "      <th></th>\n",
       "      <th>id</th>\n",
       "      <th>N_Days</th>\n",
       "      <th>Drug</th>\n",
       "      <th>Age</th>\n",
       "      <th>Sex</th>\n",
       "      <th>Ascites</th>\n",
       "      <th>Hepatomegaly</th>\n",
       "      <th>Spiders</th>\n",
       "      <th>Edema</th>\n",
       "      <th>Bilirubin</th>\n",
       "      <th>Cholesterol</th>\n",
       "      <th>Albumin</th>\n",
       "      <th>Copper</th>\n",
       "      <th>Alk_Phos</th>\n",
       "      <th>SGOT</th>\n",
       "      <th>Tryglicerides</th>\n",
       "      <th>Platelets</th>\n",
       "      <th>Prothrombin</th>\n",
       "      <th>Stage</th>\n",
       "      <th>Status</th>\n",
       "    </tr>\n",
       "  </thead>\n",
       "  <tbody>\n",
       "    <tr>\n",
       "      <th>0</th>\n",
       "      <td>0</td>\n",
       "      <td>999</td>\n",
       "      <td>D-penicillamine</td>\n",
       "      <td>21532</td>\n",
       "      <td>M</td>\n",
       "      <td>N</td>\n",
       "      <td>N</td>\n",
       "      <td>N</td>\n",
       "      <td>N</td>\n",
       "      <td>2.3</td>\n",
       "      <td>316.0</td>\n",
       "      <td>3.35</td>\n",
       "      <td>172.0</td>\n",
       "      <td>1601.0</td>\n",
       "      <td>179.80</td>\n",
       "      <td>63.0</td>\n",
       "      <td>394.0</td>\n",
       "      <td>9.7</td>\n",
       "      <td>3.0</td>\n",
       "      <td>D</td>\n",
       "    </tr>\n",
       "    <tr>\n",
       "      <th>1</th>\n",
       "      <td>1</td>\n",
       "      <td>2574</td>\n",
       "      <td>Placebo</td>\n",
       "      <td>19237</td>\n",
       "      <td>F</td>\n",
       "      <td>N</td>\n",
       "      <td>N</td>\n",
       "      <td>N</td>\n",
       "      <td>N</td>\n",
       "      <td>0.9</td>\n",
       "      <td>364.0</td>\n",
       "      <td>3.54</td>\n",
       "      <td>63.0</td>\n",
       "      <td>1440.0</td>\n",
       "      <td>134.85</td>\n",
       "      <td>88.0</td>\n",
       "      <td>361.0</td>\n",
       "      <td>11.0</td>\n",
       "      <td>3.0</td>\n",
       "      <td>C</td>\n",
       "    </tr>\n",
       "    <tr>\n",
       "      <th>2</th>\n",
       "      <td>2</td>\n",
       "      <td>3428</td>\n",
       "      <td>Placebo</td>\n",
       "      <td>13727</td>\n",
       "      <td>F</td>\n",
       "      <td>N</td>\n",
       "      <td>Y</td>\n",
       "      <td>Y</td>\n",
       "      <td>Y</td>\n",
       "      <td>3.3</td>\n",
       "      <td>299.0</td>\n",
       "      <td>3.55</td>\n",
       "      <td>131.0</td>\n",
       "      <td>1029.0</td>\n",
       "      <td>119.35</td>\n",
       "      <td>50.0</td>\n",
       "      <td>199.0</td>\n",
       "      <td>11.7</td>\n",
       "      <td>4.0</td>\n",
       "      <td>D</td>\n",
       "    </tr>\n",
       "    <tr>\n",
       "      <th>3</th>\n",
       "      <td>3</td>\n",
       "      <td>2576</td>\n",
       "      <td>Placebo</td>\n",
       "      <td>18460</td>\n",
       "      <td>F</td>\n",
       "      <td>N</td>\n",
       "      <td>N</td>\n",
       "      <td>N</td>\n",
       "      <td>N</td>\n",
       "      <td>0.6</td>\n",
       "      <td>256.0</td>\n",
       "      <td>3.50</td>\n",
       "      <td>58.0</td>\n",
       "      <td>1653.0</td>\n",
       "      <td>71.30</td>\n",
       "      <td>96.0</td>\n",
       "      <td>269.0</td>\n",
       "      <td>10.7</td>\n",
       "      <td>3.0</td>\n",
       "      <td>C</td>\n",
       "    </tr>\n",
       "    <tr>\n",
       "      <th>4</th>\n",
       "      <td>4</td>\n",
       "      <td>788</td>\n",
       "      <td>Placebo</td>\n",
       "      <td>16658</td>\n",
       "      <td>F</td>\n",
       "      <td>N</td>\n",
       "      <td>Y</td>\n",
       "      <td>N</td>\n",
       "      <td>N</td>\n",
       "      <td>1.1</td>\n",
       "      <td>346.0</td>\n",
       "      <td>3.65</td>\n",
       "      <td>63.0</td>\n",
       "      <td>1181.0</td>\n",
       "      <td>125.55</td>\n",
       "      <td>96.0</td>\n",
       "      <td>298.0</td>\n",
       "      <td>10.6</td>\n",
       "      <td>4.0</td>\n",
       "      <td>C</td>\n",
       "    </tr>\n",
       "    <tr>\n",
       "      <th>...</th>\n",
       "      <td>...</td>\n",
       "      <td>...</td>\n",
       "      <td>...</td>\n",
       "      <td>...</td>\n",
       "      <td>...</td>\n",
       "      <td>...</td>\n",
       "      <td>...</td>\n",
       "      <td>...</td>\n",
       "      <td>...</td>\n",
       "      <td>...</td>\n",
       "      <td>...</td>\n",
       "      <td>...</td>\n",
       "      <td>...</td>\n",
       "      <td>...</td>\n",
       "      <td>...</td>\n",
       "      <td>...</td>\n",
       "      <td>...</td>\n",
       "      <td>...</td>\n",
       "      <td>...</td>\n",
       "      <td>...</td>\n",
       "    </tr>\n",
       "    <tr>\n",
       "      <th>7900</th>\n",
       "      <td>7900</td>\n",
       "      <td>1166</td>\n",
       "      <td>D-penicillamine</td>\n",
       "      <td>16839</td>\n",
       "      <td>F</td>\n",
       "      <td>N</td>\n",
       "      <td>N</td>\n",
       "      <td>N</td>\n",
       "      <td>N</td>\n",
       "      <td>0.8</td>\n",
       "      <td>309.0</td>\n",
       "      <td>3.56</td>\n",
       "      <td>38.0</td>\n",
       "      <td>1629.0</td>\n",
       "      <td>79.05</td>\n",
       "      <td>224.0</td>\n",
       "      <td>344.0</td>\n",
       "      <td>9.9</td>\n",
       "      <td>2.0</td>\n",
       "      <td>C</td>\n",
       "    </tr>\n",
       "    <tr>\n",
       "      <th>7901</th>\n",
       "      <td>7901</td>\n",
       "      <td>1492</td>\n",
       "      <td>Placebo</td>\n",
       "      <td>17031</td>\n",
       "      <td>F</td>\n",
       "      <td>N</td>\n",
       "      <td>Y</td>\n",
       "      <td>N</td>\n",
       "      <td>N</td>\n",
       "      <td>0.9</td>\n",
       "      <td>260.0</td>\n",
       "      <td>3.43</td>\n",
       "      <td>62.0</td>\n",
       "      <td>1440.0</td>\n",
       "      <td>142.00</td>\n",
       "      <td>78.0</td>\n",
       "      <td>277.0</td>\n",
       "      <td>10.0</td>\n",
       "      <td>4.0</td>\n",
       "      <td>C</td>\n",
       "    </tr>\n",
       "    <tr>\n",
       "      <th>7902</th>\n",
       "      <td>7902</td>\n",
       "      <td>1576</td>\n",
       "      <td>D-penicillamine</td>\n",
       "      <td>25873</td>\n",
       "      <td>F</td>\n",
       "      <td>N</td>\n",
       "      <td>N</td>\n",
       "      <td>Y</td>\n",
       "      <td>S</td>\n",
       "      <td>2.0</td>\n",
       "      <td>225.0</td>\n",
       "      <td>3.19</td>\n",
       "      <td>51.0</td>\n",
       "      <td>933.0</td>\n",
       "      <td>69.75</td>\n",
       "      <td>62.0</td>\n",
       "      <td>200.0</td>\n",
       "      <td>12.7</td>\n",
       "      <td>2.0</td>\n",
       "      <td>D</td>\n",
       "    </tr>\n",
       "    <tr>\n",
       "      <th>7903</th>\n",
       "      <td>7903</td>\n",
       "      <td>3584</td>\n",
       "      <td>D-penicillamine</td>\n",
       "      <td>22960</td>\n",
       "      <td>M</td>\n",
       "      <td>N</td>\n",
       "      <td>Y</td>\n",
       "      <td>N</td>\n",
       "      <td>N</td>\n",
       "      <td>0.7</td>\n",
       "      <td>248.0</td>\n",
       "      <td>2.75</td>\n",
       "      <td>32.0</td>\n",
       "      <td>1003.0</td>\n",
       "      <td>57.35</td>\n",
       "      <td>118.0</td>\n",
       "      <td>221.0</td>\n",
       "      <td>10.6</td>\n",
       "      <td>4.0</td>\n",
       "      <td>D</td>\n",
       "    </tr>\n",
       "    <tr>\n",
       "      <th>7904</th>\n",
       "      <td>7904</td>\n",
       "      <td>1978</td>\n",
       "      <td>D-penicillamine</td>\n",
       "      <td>19237</td>\n",
       "      <td>F</td>\n",
       "      <td>N</td>\n",
       "      <td>N</td>\n",
       "      <td>N</td>\n",
       "      <td>N</td>\n",
       "      <td>0.7</td>\n",
       "      <td>256.0</td>\n",
       "      <td>3.23</td>\n",
       "      <td>22.0</td>\n",
       "      <td>645.0</td>\n",
       "      <td>74.40</td>\n",
       "      <td>85.0</td>\n",
       "      <td>336.0</td>\n",
       "      <td>10.3</td>\n",
       "      <td>3.0</td>\n",
       "      <td>C</td>\n",
       "    </tr>\n",
       "  </tbody>\n",
       "</table>\n",
       "<p>7905 rows × 20 columns</p>\n",
       "</div>"
      ],
      "text/plain": [
       "        id  N_Days             Drug    Age Sex Ascites Hepatomegaly Spiders  \\\n",
       "0        0     999  D-penicillamine  21532   M       N            N       N   \n",
       "1        1    2574          Placebo  19237   F       N            N       N   \n",
       "2        2    3428          Placebo  13727   F       N            Y       Y   \n",
       "3        3    2576          Placebo  18460   F       N            N       N   \n",
       "4        4     788          Placebo  16658   F       N            Y       N   \n",
       "...    ...     ...              ...    ...  ..     ...          ...     ...   \n",
       "7900  7900    1166  D-penicillamine  16839   F       N            N       N   \n",
       "7901  7901    1492          Placebo  17031   F       N            Y       N   \n",
       "7902  7902    1576  D-penicillamine  25873   F       N            N       Y   \n",
       "7903  7903    3584  D-penicillamine  22960   M       N            Y       N   \n",
       "7904  7904    1978  D-penicillamine  19237   F       N            N       N   \n",
       "\n",
       "     Edema  Bilirubin  Cholesterol  Albumin  Copper  Alk_Phos    SGOT  \\\n",
       "0        N        2.3        316.0     3.35   172.0    1601.0  179.80   \n",
       "1        N        0.9        364.0     3.54    63.0    1440.0  134.85   \n",
       "2        Y        3.3        299.0     3.55   131.0    1029.0  119.35   \n",
       "3        N        0.6        256.0     3.50    58.0    1653.0   71.30   \n",
       "4        N        1.1        346.0     3.65    63.0    1181.0  125.55   \n",
       "...    ...        ...          ...      ...     ...       ...     ...   \n",
       "7900     N        0.8        309.0     3.56    38.0    1629.0   79.05   \n",
       "7901     N        0.9        260.0     3.43    62.0    1440.0  142.00   \n",
       "7902     S        2.0        225.0     3.19    51.0     933.0   69.75   \n",
       "7903     N        0.7        248.0     2.75    32.0    1003.0   57.35   \n",
       "7904     N        0.7        256.0     3.23    22.0     645.0   74.40   \n",
       "\n",
       "      Tryglicerides  Platelets  Prothrombin  Stage Status  \n",
       "0              63.0      394.0          9.7    3.0      D  \n",
       "1              88.0      361.0         11.0    3.0      C  \n",
       "2              50.0      199.0         11.7    4.0      D  \n",
       "3              96.0      269.0         10.7    3.0      C  \n",
       "4              96.0      298.0         10.6    4.0      C  \n",
       "...             ...        ...          ...    ...    ...  \n",
       "7900          224.0      344.0          9.9    2.0      C  \n",
       "7901           78.0      277.0         10.0    4.0      C  \n",
       "7902           62.0      200.0         12.7    2.0      D  \n",
       "7903          118.0      221.0         10.6    4.0      D  \n",
       "7904           85.0      336.0         10.3    3.0      C  \n",
       "\n",
       "[7905 rows x 20 columns]"
      ]
     },
     "execution_count": 5,
     "metadata": {},
     "output_type": "execute_result"
    }
   ],
   "source": [
    "data"
   ]
  },
  {
   "cell_type": "code",
   "execution_count": 6,
   "id": "60dd877f",
   "metadata": {},
   "outputs": [
    {
     "data": {
      "text/plain": [
       "(7905, 20)"
      ]
     },
     "execution_count": 6,
     "metadata": {},
     "output_type": "execute_result"
    }
   ],
   "source": [
    "data.shape #Tells you how many features and samples are in your dataset"
   ]
  },
  {
   "cell_type": "code",
   "execution_count": null,
   "id": "dea1d864",
   "metadata": {},
   "outputs": [],
   "source": []
  },
  {
   "cell_type": "code",
   "execution_count": 7,
   "id": "08884c05",
   "metadata": {},
   "outputs": [
    {
     "name": "stdout",
     "output_type": "stream",
     "text": [
      "<class 'pandas.core.frame.DataFrame'>\n",
      "RangeIndex: 7905 entries, 0 to 7904\n",
      "Data columns (total 20 columns):\n",
      " #   Column         Non-Null Count  Dtype  \n",
      "---  ------         --------------  -----  \n",
      " 0   id             7905 non-null   int64  \n",
      " 1   N_Days         7905 non-null   int64  \n",
      " 2   Drug           7905 non-null   object \n",
      " 3   Age            7905 non-null   int64  \n",
      " 4   Sex            7905 non-null   object \n",
      " 5   Ascites        7905 non-null   object \n",
      " 6   Hepatomegaly   7905 non-null   object \n",
      " 7   Spiders        7905 non-null   object \n",
      " 8   Edema          7905 non-null   object \n",
      " 9   Bilirubin      7905 non-null   float64\n",
      " 10  Cholesterol    7905 non-null   float64\n",
      " 11  Albumin        7905 non-null   float64\n",
      " 12  Copper         7905 non-null   float64\n",
      " 13  Alk_Phos       7905 non-null   float64\n",
      " 14  SGOT           7905 non-null   float64\n",
      " 15  Tryglicerides  7905 non-null   float64\n",
      " 16  Platelets      7905 non-null   float64\n",
      " 17  Prothrombin    7905 non-null   float64\n",
      " 18  Stage          7905 non-null   float64\n",
      " 19  Status         7905 non-null   object \n",
      "dtypes: float64(10), int64(3), object(7)\n",
      "memory usage: 1019.1+ KB\n"
     ]
    }
   ],
   "source": [
    "data.info()"
   ]
  },
  {
   "cell_type": "code",
   "execution_count": 8,
   "id": "e779de5e",
   "metadata": {},
   "outputs": [
    {
     "data": {
      "text/html": [
       "<div>\n",
       "<style scoped>\n",
       "    .dataframe tbody tr th:only-of-type {\n",
       "        vertical-align: middle;\n",
       "    }\n",
       "\n",
       "    .dataframe tbody tr th {\n",
       "        vertical-align: top;\n",
       "    }\n",
       "\n",
       "    .dataframe thead th {\n",
       "        text-align: right;\n",
       "    }\n",
       "</style>\n",
       "<table border=\"1\" class=\"dataframe\">\n",
       "  <thead>\n",
       "    <tr style=\"text-align: right;\">\n",
       "      <th></th>\n",
       "      <th>id</th>\n",
       "      <th>N_Days</th>\n",
       "      <th>Age</th>\n",
       "      <th>Bilirubin</th>\n",
       "      <th>Cholesterol</th>\n",
       "      <th>Albumin</th>\n",
       "      <th>Copper</th>\n",
       "      <th>Alk_Phos</th>\n",
       "      <th>SGOT</th>\n",
       "      <th>Tryglicerides</th>\n",
       "      <th>Platelets</th>\n",
       "      <th>Prothrombin</th>\n",
       "      <th>Stage</th>\n",
       "    </tr>\n",
       "  </thead>\n",
       "  <tbody>\n",
       "    <tr>\n",
       "      <th>count</th>\n",
       "      <td>7905.000000</td>\n",
       "      <td>7905.000000</td>\n",
       "      <td>7905.000000</td>\n",
       "      <td>7905.000000</td>\n",
       "      <td>7905.000000</td>\n",
       "      <td>7905.000000</td>\n",
       "      <td>7905.000000</td>\n",
       "      <td>7905.000000</td>\n",
       "      <td>7905.000000</td>\n",
       "      <td>7905.000000</td>\n",
       "      <td>7905.000000</td>\n",
       "      <td>7905.000000</td>\n",
       "      <td>7905.000000</td>\n",
       "    </tr>\n",
       "    <tr>\n",
       "      <th>mean</th>\n",
       "      <td>3952.000000</td>\n",
       "      <td>2030.173308</td>\n",
       "      <td>18373.146490</td>\n",
       "      <td>2.594485</td>\n",
       "      <td>350.561923</td>\n",
       "      <td>3.548323</td>\n",
       "      <td>83.902846</td>\n",
       "      <td>1816.745250</td>\n",
       "      <td>114.604602</td>\n",
       "      <td>115.340164</td>\n",
       "      <td>265.228969</td>\n",
       "      <td>10.629462</td>\n",
       "      <td>3.032511</td>\n",
       "    </tr>\n",
       "    <tr>\n",
       "      <th>std</th>\n",
       "      <td>2282.121272</td>\n",
       "      <td>1094.233744</td>\n",
       "      <td>3679.958739</td>\n",
       "      <td>3.812960</td>\n",
       "      <td>195.379344</td>\n",
       "      <td>0.346171</td>\n",
       "      <td>75.899266</td>\n",
       "      <td>1903.750657</td>\n",
       "      <td>48.790945</td>\n",
       "      <td>52.530402</td>\n",
       "      <td>87.465579</td>\n",
       "      <td>0.781735</td>\n",
       "      <td>0.866511</td>\n",
       "    </tr>\n",
       "    <tr>\n",
       "      <th>min</th>\n",
       "      <td>0.000000</td>\n",
       "      <td>41.000000</td>\n",
       "      <td>9598.000000</td>\n",
       "      <td>0.300000</td>\n",
       "      <td>120.000000</td>\n",
       "      <td>1.960000</td>\n",
       "      <td>4.000000</td>\n",
       "      <td>289.000000</td>\n",
       "      <td>26.350000</td>\n",
       "      <td>33.000000</td>\n",
       "      <td>62.000000</td>\n",
       "      <td>9.000000</td>\n",
       "      <td>1.000000</td>\n",
       "    </tr>\n",
       "    <tr>\n",
       "      <th>25%</th>\n",
       "      <td>1976.000000</td>\n",
       "      <td>1230.000000</td>\n",
       "      <td>15574.000000</td>\n",
       "      <td>0.700000</td>\n",
       "      <td>248.000000</td>\n",
       "      <td>3.350000</td>\n",
       "      <td>39.000000</td>\n",
       "      <td>834.000000</td>\n",
       "      <td>75.950000</td>\n",
       "      <td>84.000000</td>\n",
       "      <td>211.000000</td>\n",
       "      <td>10.000000</td>\n",
       "      <td>2.000000</td>\n",
       "    </tr>\n",
       "    <tr>\n",
       "      <th>50%</th>\n",
       "      <td>3952.000000</td>\n",
       "      <td>1831.000000</td>\n",
       "      <td>18713.000000</td>\n",
       "      <td>1.100000</td>\n",
       "      <td>298.000000</td>\n",
       "      <td>3.580000</td>\n",
       "      <td>63.000000</td>\n",
       "      <td>1181.000000</td>\n",
       "      <td>108.500000</td>\n",
       "      <td>104.000000</td>\n",
       "      <td>265.000000</td>\n",
       "      <td>10.600000</td>\n",
       "      <td>3.000000</td>\n",
       "    </tr>\n",
       "    <tr>\n",
       "      <th>75%</th>\n",
       "      <td>5928.000000</td>\n",
       "      <td>2689.000000</td>\n",
       "      <td>20684.000000</td>\n",
       "      <td>3.000000</td>\n",
       "      <td>390.000000</td>\n",
       "      <td>3.770000</td>\n",
       "      <td>102.000000</td>\n",
       "      <td>1857.000000</td>\n",
       "      <td>137.950000</td>\n",
       "      <td>139.000000</td>\n",
       "      <td>316.000000</td>\n",
       "      <td>11.000000</td>\n",
       "      <td>4.000000</td>\n",
       "    </tr>\n",
       "    <tr>\n",
       "      <th>max</th>\n",
       "      <td>7904.000000</td>\n",
       "      <td>4795.000000</td>\n",
       "      <td>28650.000000</td>\n",
       "      <td>28.000000</td>\n",
       "      <td>1775.000000</td>\n",
       "      <td>4.640000</td>\n",
       "      <td>588.000000</td>\n",
       "      <td>13862.400000</td>\n",
       "      <td>457.250000</td>\n",
       "      <td>598.000000</td>\n",
       "      <td>563.000000</td>\n",
       "      <td>18.000000</td>\n",
       "      <td>4.000000</td>\n",
       "    </tr>\n",
       "  </tbody>\n",
       "</table>\n",
       "</div>"
      ],
      "text/plain": [
       "                id       N_Days           Age    Bilirubin  Cholesterol  \\\n",
       "count  7905.000000  7905.000000   7905.000000  7905.000000  7905.000000   \n",
       "mean   3952.000000  2030.173308  18373.146490     2.594485   350.561923   \n",
       "std    2282.121272  1094.233744   3679.958739     3.812960   195.379344   \n",
       "min       0.000000    41.000000   9598.000000     0.300000   120.000000   \n",
       "25%    1976.000000  1230.000000  15574.000000     0.700000   248.000000   \n",
       "50%    3952.000000  1831.000000  18713.000000     1.100000   298.000000   \n",
       "75%    5928.000000  2689.000000  20684.000000     3.000000   390.000000   \n",
       "max    7904.000000  4795.000000  28650.000000    28.000000  1775.000000   \n",
       "\n",
       "           Albumin       Copper      Alk_Phos         SGOT  Tryglicerides  \\\n",
       "count  7905.000000  7905.000000   7905.000000  7905.000000    7905.000000   \n",
       "mean      3.548323    83.902846   1816.745250   114.604602     115.340164   \n",
       "std       0.346171    75.899266   1903.750657    48.790945      52.530402   \n",
       "min       1.960000     4.000000    289.000000    26.350000      33.000000   \n",
       "25%       3.350000    39.000000    834.000000    75.950000      84.000000   \n",
       "50%       3.580000    63.000000   1181.000000   108.500000     104.000000   \n",
       "75%       3.770000   102.000000   1857.000000   137.950000     139.000000   \n",
       "max       4.640000   588.000000  13862.400000   457.250000     598.000000   \n",
       "\n",
       "         Platelets  Prothrombin        Stage  \n",
       "count  7905.000000  7905.000000  7905.000000  \n",
       "mean    265.228969    10.629462     3.032511  \n",
       "std      87.465579     0.781735     0.866511  \n",
       "min      62.000000     9.000000     1.000000  \n",
       "25%     211.000000    10.000000     2.000000  \n",
       "50%     265.000000    10.600000     3.000000  \n",
       "75%     316.000000    11.000000     4.000000  \n",
       "max     563.000000    18.000000     4.000000  "
      ]
     },
     "execution_count": 8,
     "metadata": {},
     "output_type": "execute_result"
    }
   ],
   "source": [
    "data.describe() #this gives you some statistical overview of your dataset"
   ]
  },
  {
   "cell_type": "code",
   "execution_count": 9,
   "id": "c1dbd572",
   "metadata": {},
   "outputs": [
    {
     "data": {
      "text/plain": [
       "array(['D', 'C', 'CL'], dtype=object)"
      ]
     },
     "execution_count": 9,
     "metadata": {},
     "output_type": "execute_result"
    }
   ],
   "source": [
    "data['Status'].unique()"
   ]
  },
  {
   "cell_type": "code",
   "execution_count": 10,
   "id": "639c9175",
   "metadata": {},
   "outputs": [
    {
     "data": {
      "text/plain": [
       "C     4965\n",
       "D     2665\n",
       "CL     275\n",
       "Name: Status, dtype: int64"
      ]
     },
     "execution_count": 10,
     "metadata": {},
     "output_type": "execute_result"
    }
   ],
   "source": [
    "data['Status'].value_counts()  #We can see form this code that the data is not evenly distributed"
   ]
  },
  {
   "cell_type": "code",
   "execution_count": 13,
   "id": "b51d5514",
   "metadata": {},
   "outputs": [
    {
     "data": {
      "text/html": [
       "<div>\n",
       "<style scoped>\n",
       "    .dataframe tbody tr th:only-of-type {\n",
       "        vertical-align: middle;\n",
       "    }\n",
       "\n",
       "    .dataframe tbody tr th {\n",
       "        vertical-align: top;\n",
       "    }\n",
       "\n",
       "    .dataframe thead th {\n",
       "        text-align: right;\n",
       "    }\n",
       "</style>\n",
       "<table border=\"1\" class=\"dataframe\">\n",
       "  <thead>\n",
       "    <tr style=\"text-align: right;\">\n",
       "      <th></th>\n",
       "      <th>id</th>\n",
       "      <th>N_Days</th>\n",
       "      <th>Age</th>\n",
       "      <th>Bilirubin</th>\n",
       "      <th>Cholesterol</th>\n",
       "      <th>Albumin</th>\n",
       "      <th>Copper</th>\n",
       "      <th>Alk_Phos</th>\n",
       "      <th>SGOT</th>\n",
       "      <th>Tryglicerides</th>\n",
       "      <th>Platelets</th>\n",
       "      <th>Prothrombin</th>\n",
       "      <th>Stage</th>\n",
       "    </tr>\n",
       "    <tr>\n",
       "      <th>Status</th>\n",
       "      <th></th>\n",
       "      <th></th>\n",
       "      <th></th>\n",
       "      <th></th>\n",
       "      <th></th>\n",
       "      <th></th>\n",
       "      <th></th>\n",
       "      <th></th>\n",
       "      <th></th>\n",
       "      <th></th>\n",
       "      <th></th>\n",
       "      <th></th>\n",
       "      <th></th>\n",
       "    </tr>\n",
       "  </thead>\n",
       "  <tbody>\n",
       "    <tr>\n",
       "      <th>C</th>\n",
       "      <td>3945.426989</td>\n",
       "      <td>2322.529305</td>\n",
       "      <td>17969.769587</td>\n",
       "      <td>1.362699</td>\n",
       "      <td>322.078751</td>\n",
       "      <td>3.624918</td>\n",
       "      <td>61.491641</td>\n",
       "      <td>1596.690715</td>\n",
       "      <td>102.832914</td>\n",
       "      <td>107.406647</td>\n",
       "      <td>276.215106</td>\n",
       "      <td>10.405076</td>\n",
       "      <td>2.804230</td>\n",
       "    </tr>\n",
       "    <tr>\n",
       "      <th>CL</th>\n",
       "      <td>4123.287273</td>\n",
       "      <td>1610.105455</td>\n",
       "      <td>16230.600000</td>\n",
       "      <td>2.903273</td>\n",
       "      <td>404.829091</td>\n",
       "      <td>3.547418</td>\n",
       "      <td>102.905455</td>\n",
       "      <td>1823.011636</td>\n",
       "      <td>127.439673</td>\n",
       "      <td>122.556364</td>\n",
       "      <td>277.414545</td>\n",
       "      <td>10.549091</td>\n",
       "      <td>3.170909</td>\n",
       "    </tr>\n",
       "    <tr>\n",
       "      <th>D</th>\n",
       "      <td>3946.570732</td>\n",
       "      <td>1528.849156</td>\n",
       "      <td>19345.741839</td>\n",
       "      <td>4.857486</td>\n",
       "      <td>398.027392</td>\n",
       "      <td>3.405715</td>\n",
       "      <td>123.694934</td>\n",
       "      <td>2226.068893</td>\n",
       "      <td>135.211276</td>\n",
       "      <td>129.375985</td>\n",
       "      <td>243.503940</td>\n",
       "      <td>11.055797</td>\n",
       "      <td>3.443527</td>\n",
       "    </tr>\n",
       "  </tbody>\n",
       "</table>\n",
       "</div>"
      ],
      "text/plain": [
       "                 id       N_Days           Age  Bilirubin  Cholesterol  \\\n",
       "Status                                                                   \n",
       "C       3945.426989  2322.529305  17969.769587   1.362699   322.078751   \n",
       "CL      4123.287273  1610.105455  16230.600000   2.903273   404.829091   \n",
       "D       3946.570732  1528.849156  19345.741839   4.857486   398.027392   \n",
       "\n",
       "         Albumin      Copper     Alk_Phos        SGOT  Tryglicerides  \\\n",
       "Status                                                                 \n",
       "C       3.624918   61.491641  1596.690715  102.832914     107.406647   \n",
       "CL      3.547418  102.905455  1823.011636  127.439673     122.556364   \n",
       "D       3.405715  123.694934  2226.068893  135.211276     129.375985   \n",
       "\n",
       "         Platelets  Prothrombin     Stage  \n",
       "Status                                     \n",
       "C       276.215106    10.405076  2.804230  \n",
       "CL      277.414545    10.549091  3.170909  \n",
       "D       243.503940    11.055797  3.443527  "
      ]
     },
     "execution_count": 13,
     "metadata": {},
     "output_type": "execute_result"
    }
   ],
   "source": [
    "data.groupby('Status').mean()"
   ]
  },
  {
   "cell_type": "code",
   "execution_count": 11,
   "id": "990d2636",
   "metadata": {},
   "outputs": [
    {
     "data": {
      "text/plain": [
       "<AxesSubplot:>"
      ]
     },
     "execution_count": 11,
     "metadata": {},
     "output_type": "execute_result"
    },
    {
     "data": {
      "image/png": "[encoded data removed]",
      "text/plain": [
       "<Figure size 432x288 with 1 Axes>"
      ]
     },
     "metadata": {
      "needs_background": "light"
     },
     "output_type": "display_data"
    }
   ],
   "source": [
    "data['Status'].hist()"
   ]
  },
  {
   "cell_type": "code",
   "execution_count": 12,
   "id": "89b5b535",
   "metadata": {},
   "outputs": [
    {
     "data": {
      "text/plain": [
       "<AxesSubplot:>"
      ]
     },
     "execution_count": 12,
     "metadata": {},
     "output_type": "execute_result"
    },
    {
     "data": {
      "image/png": "[encoded data removed]",
      "text/plain": [
       "<Figure size 432x288 with 1 Axes>"
      ]
     },
     "metadata": {
      "needs_background": "light"
     },
     "output_type": "display_data"
    }
   ],
   "source": [
    "data['Bilirubin'].hist()"
   ]
  },
  {
   "cell_type": "code",
   "execution_count": null,
   "id": "fae6e937",
   "metadata": {},
   "outputs": [],
   "source": []
  },
  {
   "cell_type": "code",
   "execution_count": null,
   "id": "7b6dc953",
   "metadata": {},
   "outputs": [],
   "source": []
  },
  {
   "cell_type": "code",
   "execution_count": null,
   "id": "cda94d2c",
   "metadata": {},
   "outputs": [],
   "source": []
  },
  {
   "cell_type": "code",
   "execution_count": null,
   "id": "fb99c9a8",
   "metadata": {},
   "outputs": [],
   "source": []
  },
  {
   "cell_type": "code",
   "execution_count": null,
   "id": "aa330a57",
   "metadata": {},
   "outputs": [],
   "source": []
  },
  {
   "cell_type": "code",
   "execution_count": null,
   "id": "e15be317",
   "metadata": {},
   "outputs": [],
   "source": []
  },
  {
   "cell_type": "code",
   "execution_count": null,
   "id": "8d8d5ba0",
   "metadata": {},
   "outputs": [],
   "source": []
  },
  {
   "cell_type": "code",
   "execution_count": null,
   "id": "1259dffb",
   "metadata": {},
   "outputs": [],
   "source": []
  },
  {
   "cell_type": "code",
   "execution_count": null,
   "id": "38e3bc79",
   "metadata": {},
   "outputs": [],
   "source": []
  },
  {
   "cell_type": "code",
   "execution_count": null,
   "id": "dff23f40",
   "metadata": {},
   "outputs": [],
   "source": []
  },
  {
   "cell_type": "code",
   "execution_count": 79,
   "id": "6a0e0db6",
   "metadata": {},
   "outputs": [],
   "source": [
    "#We will try to change the categorical variables in our dataset to Numeric"
   ]
  },
  {
   "cell_type": "code",
   "execution_count": 80,
   "id": "2342e100",
   "metadata": {},
   "outputs": [
    {
     "data": {
      "text/plain": [
       "array(['D-penicillamine', 'Placebo'], dtype=object)"
      ]
     },
     "execution_count": 80,
     "metadata": {},
     "output_type": "execute_result"
    }
   ],
   "source": [
    "data['Drug'].unique()"
   ]
  },
  {
   "cell_type": "code",
   "execution_count": 81,
   "id": "6645519a",
   "metadata": {},
   "outputs": [],
   "source": [
    "#First we import LabelEncoder from sklearn library"
   ]
  },
  {
   "cell_type": "code",
   "execution_count": 82,
   "id": "1f4a390d",
   "metadata": {},
   "outputs": [],
   "source": [
    "from sklearn.preprocessing import LabelEncoder\n",
    "encoder= LabelEncoder()\n",
    "\n",
    "data['Sex']=encoder.fit_transform(data['Sex'])\n",
    "data['Drug']=encoder.fit_transform(data['Drug'])\n",
    "data['Ascites']=encoder.fit_transform(data['Ascites'])\n",
    "data['Hepatomegaly']=encoder.fit_transform(data['Hepatomegaly'])\n",
    "data['Spiders']=encoder.fit_transform(data['Spiders'])\n",
    "data['Edema']=encoder.fit_transform(data['Edema'])"
   ]
  },
  {
   "cell_type": "code",
   "execution_count": 83,
   "id": "24fe0119",
   "metadata": {},
   "outputs": [
    {
     "data": {
      "text/plain": [
       "array([88, 737, 1, 19693, 0, 0, 1, 1, 0, 3.6, 348.0, 3.8, 121.0, 979.0,\n",
       "       120.9, 146.0, 142.0, 11.1, 4.0, 'CL'], dtype=object)"
      ]
     },
     "execution_count": 83,
     "metadata": {},
     "output_type": "execute_result"
    }
   ],
   "source": [
    "data.values[88]"
   ]
  },
  {
   "cell_type": "code",
   "execution_count": 84,
   "id": "b5026b51",
   "metadata": {},
   "outputs": [
    {
     "data": {
      "text/plain": [
       "array(['D', 'C', 'CL'], dtype=object)"
      ]
     },
     "execution_count": 84,
     "metadata": {},
     "output_type": "execute_result"
    }
   ],
   "source": [
    "data.Status.unique()"
   ]
  },
  {
   "cell_type": "code",
   "execution_count": 108,
   "id": "9c87daad",
   "metadata": {},
   "outputs": [],
   "source": [
    "data['Status']=encoder.fit_transform(data['Status']) # C = 0, CL = 1, D = 2"
   ]
  },
  {
   "cell_type": "code",
   "execution_count": 109,
   "id": "82df8e4e",
   "metadata": {},
   "outputs": [
    {
     "data": {
      "text/plain": [
       "array([2, 0, 1])"
      ]
     },
     "execution_count": 109,
     "metadata": {},
     "output_type": "execute_result"
    }
   ],
   "source": [
    " "
   ]
  },
  {
   "cell_type": "code",
   "execution_count": 23,
   "id": "d53e19d5",
   "metadata": {},
   "outputs": [],
   "source": [
    "X= data.drop(columns= 'Status', axis=1)\n",
    "y=data['Status']"
   ]
  },
  {
   "cell_type": "code",
   "execution_count": 24,
   "id": "ce09645b",
   "metadata": {},
   "outputs": [],
   "source": [
    "scaler= StandardScaler()"
   ]
  },
  {
   "cell_type": "code",
   "execution_count": 25,
   "id": "14cbb320",
   "metadata": {},
   "outputs": [],
   "source": [
    "X= scaler.fit_transform(X)"
   ]
  },
  {
   "cell_type": "code",
   "execution_count": 26,
   "id": "90d3f91c",
   "metadata": {},
   "outputs": [
    {
     "data": {
      "text/plain": [
       "array([[-1.73183171, -0.94242984, -1.01465513, ...,  1.47234122,\n",
       "        -1.18904919, -0.0375219 ],\n",
       "       [-1.7313935 ,  0.4970246 ,  0.98555654, ...,  1.09502608,\n",
       "         0.47402401, -0.0375219 ],\n",
       "       [-1.73095528,  1.27752879,  0.98555654, ..., -0.75724828,\n",
       "         1.36952496,  1.11660504],\n",
       "       ...,\n",
       "       [ 1.73095528, -0.41508685, -1.01465513, ..., -0.74581448,\n",
       "         2.64881203, -1.19164884],\n",
       "       [ 1.7313935 ,  1.42010333, -1.01465513, ..., -0.50570484,\n",
       "        -0.03769082,  1.11660504],\n",
       "       [ 1.73183171, -0.04768324, -1.01465513, ...,  0.80918127,\n",
       "        -0.42147694, -0.0375219 ]])"
      ]
     },
     "execution_count": 26,
     "metadata": {},
     "output_type": "execute_result"
    }
   ],
   "source": [
    "X"
   ]
  },
  {
   "cell_type": "markdown",
   "id": "0831c148",
   "metadata": {},
   "source": [
    "# Training the model"
   ]
  },
  {
   "cell_type": "code",
   "execution_count": 27,
   "id": "ae6a1ec3",
   "metadata": {},
   "outputs": [],
   "source": [
    "#We will make use of DecisionTreeClassifier"
   ]
  },
  {
   "cell_type": "code",
   "execution_count": 28,
   "id": "6b99ec33",
   "metadata": {},
   "outputs": [],
   "source": [
    "x_train, x_test, y_train, y_test= train_test_split(X, y, test_size=0.3) #this means that 70% of our dataset is used to train the model"
   ]
  },
  {
   "cell_type": "code",
   "execution_count": 130,
   "id": "21120fc9",
   "metadata": {},
   "outputs": [],
   "source": [
    "model= DecisionTreeClassifier()"
   ]
  },
  {
   "cell_type": "code",
   "execution_count": 135,
   "id": "79aa98ce",
   "metadata": {},
   "outputs": [
    {
     "data": {
      "text/plain": [
       "RandomForestClassifier()"
      ]
     },
     "execution_count": 135,
     "metadata": {},
     "output_type": "execute_result"
    }
   ],
   "source": [
    "model.fit(x_train, y_train)"
   ]
  },
  {
   "cell_type": "code",
   "execution_count": 126,
   "id": "04458bbd",
   "metadata": {},
   "outputs": [],
   "source": [
    "from sklearn.neighbors import KNeighborsClassifier\n",
    "model = KNeighborsClassifier()"
   ]
  },
  {
   "cell_type": "code",
   "execution_count": 134,
   "id": "90cc432e",
   "metadata": {},
   "outputs": [],
   "source": [
    "model=RandomForestClassifier()"
   ]
  },
  {
   "cell_type": "markdown",
   "id": "5cfc4acd",
   "metadata": {},
   "source": [
    "# Model Evaluation"
   ]
  },
  {
   "cell_type": "code",
   "execution_count": 136,
   "id": "2d14c224",
   "metadata": {},
   "outputs": [
    {
     "name": "stdout",
     "output_type": "stream",
     "text": [
      "Accuracy:  0.8351602023608768\n"
     ]
    }
   ],
   "source": [
    "print('Accuracy: ', model.score(x_test, y_test))"
   ]
  },
  {
   "cell_type": "code",
   "execution_count": null,
   "id": "2c729935",
   "metadata": {},
   "outputs": [],
   "source": []
  },
  {
   "cell_type": "code",
   "execution_count": null,
   "id": "e6dbf27d",
   "metadata": {},
   "outputs": [],
   "source": []
  },
  {
   "cell_type": "code",
   "execution_count": null,
   "id": "4fbca80e",
   "metadata": {},
   "outputs": [],
   "source": []
  },
  {
   "cell_type": "code",
   "execution_count": null,
   "id": "d9af48fe",
   "metadata": {},
   "outputs": [],
   "source": []
  },
  {
   "cell_type": "code",
   "execution_count": null,
   "id": "7b7c8a23",
   "metadata": {},
   "outputs": [],
   "source": []
  },
  {
   "cell_type": "code",
   "execution_count": null,
   "id": "d5fe6a4a",
   "metadata": {},
   "outputs": [],
   "source": []
  },
  {
   "cell_type": "code",
   "execution_count": null,
   "id": "9f85052b",
   "metadata": {},
   "outputs": [],
   "source": []
  },
  {
   "cell_type": "markdown",
   "id": "3cb451f2",
   "metadata": {},
   "source": [
    "# Building a Prediction System for a single patient"
   ]
  },
  {
   "cell_type": "code",
   "execution_count": 137,
   "id": "f4003a7e",
   "metadata": {},
   "outputs": [
    {
     "name": "stdout",
     "output_type": "stream",
     "text": [
      "[1]\n",
      "The Patient was alive at day 2475 due to a liver transplant\n"
     ]
    },
    {
     "name": "stderr",
     "output_type": "stream",
     "text": [
      "C:\\Users\\RICHARD\\anaconda3\\lib\\site-packages\\sklearn\\base.py:450: UserWarning: X does not have valid feature names, but StandardScaler was fitted with feature names\n",
      "  warnings.warn(\n"
     ]
    }
   ],
   "source": [
    "input_data= []\n",
    "\n",
    "input_data = [3164,2475,'D-penicillamine',13329,'F','N','N','N','N',3.4,450.0,3.26,32.0,1408.0,116.25,118.0,313.0,11.2,3.0]\n",
    "\n",
    "\n",
    "for item in input_data:\n",
    "    if input_data[2] == 'D-penicillamine':    #based on the label encoding we did in ln 65 and 66\n",
    "        input_data[2]=0\n",
    "    else:\n",
    "        input_data[2]= 1\n",
    "\n",
    "    if input_data[4]== 'M':\n",
    "        input_data[4]=1\n",
    "    else:\n",
    "        input_data[4]=0\n",
    "        \n",
    "    if input_data[5]== 'N':\n",
    "        input_data[5]= 0\n",
    "    else:\n",
    "        input_data[5]= 1\n",
    "        \n",
    "    if input_data[6]== 'N':\n",
    "        input_data[6]= 0\n",
    "    else:\n",
    "        input_data[6]= 1\n",
    "        \n",
    "    if input_data[7]== 'N':\n",
    "        input_data[7]= 0\n",
    "    else:\n",
    "        input_data[7]= 1\n",
    "    \n",
    "    if input_data[8]== 'N':\n",
    "        input_data[8]= 0\n",
    "    else:\n",
    "        input_data[8]= 1\n",
    "# changing the input data to numpy array\n",
    "\n",
    "input_data_as_np= np.asarray(input_data)\n",
    "#Reshape the array \n",
    "\n",
    "data_reshaped= input_data_as_np.reshape(1,-1)\n",
    "std_data = scaler.transform(data_reshaped)\n",
    "\n",
    "prediction= model.predict(std_data)\n",
    "print(prediction)\n",
    "\n",
    "if (prediction[0]== 0):          #remember that C = 0, CL = 1, D = 2\n",
    "    print(f'The Patient was alive at day {input_data[1]}')\n",
    "elif (prediction[0]==1):\n",
    "    print(f'The Patient was alive at day {input_data[1]} due to a liver transplant')\n",
    "else:\n",
    "    print(f'The Patient was deceased at day {input_data[1]}')"
   ]
  },
  {
   "cell_type": "markdown",
   "id": "062573fe",
   "metadata": {},
   "source": [
    "# Building A prediction System for a Dataset"
   ]
  },
  {
   "cell_type": "code",
   "execution_count": 33,
   "id": "7aa7db67",
   "metadata": {},
   "outputs": [],
   "source": [
    "dataset=pd.read_csv('test.csv')"
   ]
  },
  {
   "cell_type": "code",
   "execution_count": 34,
   "id": "7c20a516",
   "metadata": {},
   "outputs": [
    {
     "name": "stdout",
     "output_type": "stream",
     "text": [
      "<class 'pandas.core.frame.DataFrame'>\n",
      "RangeIndex: 5271 entries, 0 to 5270\n",
      "Data columns (total 19 columns):\n",
      " #   Column         Non-Null Count  Dtype  \n",
      "---  ------         --------------  -----  \n",
      " 0   id             5271 non-null   int64  \n",
      " 1   N_Days         5271 non-null   int64  \n",
      " 2   Drug           5271 non-null   object \n",
      " 3   Age            5271 non-null   int64  \n",
      " 4   Sex            5271 non-null   object \n",
      " 5   Ascites        5271 non-null   object \n",
      " 6   Hepatomegaly   5271 non-null   object \n",
      " 7   Spiders        5271 non-null   object \n",
      " 8   Edema          5271 non-null   object \n",
      " 9   Bilirubin      5271 non-null   float64\n",
      " 10  Cholesterol    5271 non-null   float64\n",
      " 11  Albumin        5271 non-null   float64\n",
      " 12  Copper         5271 non-null   float64\n",
      " 13  Alk_Phos       5271 non-null   float64\n",
      " 14  SGOT           5271 non-null   float64\n",
      " 15  Tryglicerides  5271 non-null   float64\n",
      " 16  Platelets      5271 non-null   float64\n",
      " 17  Prothrombin    5271 non-null   float64\n",
      " 18  Stage          5271 non-null   float64\n",
      "dtypes: float64(10), int64(3), object(6)\n",
      "memory usage: 658.9+ KB\n"
     ]
    }
   ],
   "source": [
    "dataset.info()"
   ]
  },
  {
   "cell_type": "code",
   "execution_count": 35,
   "id": "0e67a051",
   "metadata": {},
   "outputs": [
    {
     "data": {
      "text/html": [
       "<div>\n",
       "<style scoped>\n",
       "    .dataframe tbody tr th:only-of-type {\n",
       "        vertical-align: middle;\n",
       "    }\n",
       "\n",
       "    .dataframe tbody tr th {\n",
       "        vertical-align: top;\n",
       "    }\n",
       "\n",
       "    .dataframe thead th {\n",
       "        text-align: right;\n",
       "    }\n",
       "</style>\n",
       "<table border=\"1\" class=\"dataframe\">\n",
       "  <thead>\n",
       "    <tr style=\"text-align: right;\">\n",
       "      <th></th>\n",
       "      <th>id</th>\n",
       "      <th>N_Days</th>\n",
       "      <th>Drug</th>\n",
       "      <th>Age</th>\n",
       "      <th>Sex</th>\n",
       "      <th>Ascites</th>\n",
       "      <th>Hepatomegaly</th>\n",
       "      <th>Spiders</th>\n",
       "      <th>Edema</th>\n",
       "      <th>Bilirubin</th>\n",
       "      <th>Cholesterol</th>\n",
       "      <th>Albumin</th>\n",
       "      <th>Copper</th>\n",
       "      <th>Alk_Phos</th>\n",
       "      <th>SGOT</th>\n",
       "      <th>Tryglicerides</th>\n",
       "      <th>Platelets</th>\n",
       "      <th>Prothrombin</th>\n",
       "      <th>Stage</th>\n",
       "    </tr>\n",
       "  </thead>\n",
       "  <tbody>\n",
       "    <tr>\n",
       "      <th>0</th>\n",
       "      <td>7905</td>\n",
       "      <td>3839</td>\n",
       "      <td>D-penicillamine</td>\n",
       "      <td>19724</td>\n",
       "      <td>F</td>\n",
       "      <td>N</td>\n",
       "      <td>Y</td>\n",
       "      <td>N</td>\n",
       "      <td>N</td>\n",
       "      <td>1.2</td>\n",
       "      <td>546.0</td>\n",
       "      <td>3.37</td>\n",
       "      <td>65.0</td>\n",
       "      <td>1636.0</td>\n",
       "      <td>151.90</td>\n",
       "      <td>90.0</td>\n",
       "      <td>430.0</td>\n",
       "      <td>10.6</td>\n",
       "      <td>2.0</td>\n",
       "    </tr>\n",
       "    <tr>\n",
       "      <th>1</th>\n",
       "      <td>7906</td>\n",
       "      <td>2468</td>\n",
       "      <td>D-penicillamine</td>\n",
       "      <td>14975</td>\n",
       "      <td>F</td>\n",
       "      <td>N</td>\n",
       "      <td>N</td>\n",
       "      <td>N</td>\n",
       "      <td>N</td>\n",
       "      <td>1.1</td>\n",
       "      <td>660.0</td>\n",
       "      <td>4.22</td>\n",
       "      <td>94.0</td>\n",
       "      <td>1257.0</td>\n",
       "      <td>151.90</td>\n",
       "      <td>155.0</td>\n",
       "      <td>227.0</td>\n",
       "      <td>10.0</td>\n",
       "      <td>2.0</td>\n",
       "    </tr>\n",
       "    <tr>\n",
       "      <th>2</th>\n",
       "      <td>7907</td>\n",
       "      <td>51</td>\n",
       "      <td>Placebo</td>\n",
       "      <td>13149</td>\n",
       "      <td>F</td>\n",
       "      <td>N</td>\n",
       "      <td>Y</td>\n",
       "      <td>N</td>\n",
       "      <td>Y</td>\n",
       "      <td>2.0</td>\n",
       "      <td>151.0</td>\n",
       "      <td>2.96</td>\n",
       "      <td>46.0</td>\n",
       "      <td>961.0</td>\n",
       "      <td>69.75</td>\n",
       "      <td>101.0</td>\n",
       "      <td>213.0</td>\n",
       "      <td>13.0</td>\n",
       "      <td>4.0</td>\n",
       "    </tr>\n",
       "    <tr>\n",
       "      <th>3</th>\n",
       "      <td>7908</td>\n",
       "      <td>2330</td>\n",
       "      <td>D-penicillamine</td>\n",
       "      <td>20510</td>\n",
       "      <td>F</td>\n",
       "      <td>N</td>\n",
       "      <td>N</td>\n",
       "      <td>N</td>\n",
       "      <td>N</td>\n",
       "      <td>0.6</td>\n",
       "      <td>293.0</td>\n",
       "      <td>3.85</td>\n",
       "      <td>40.0</td>\n",
       "      <td>554.0</td>\n",
       "      <td>125.55</td>\n",
       "      <td>56.0</td>\n",
       "      <td>270.0</td>\n",
       "      <td>10.6</td>\n",
       "      <td>2.0</td>\n",
       "    </tr>\n",
       "    <tr>\n",
       "      <th>4</th>\n",
       "      <td>7909</td>\n",
       "      <td>1615</td>\n",
       "      <td>D-penicillamine</td>\n",
       "      <td>21904</td>\n",
       "      <td>F</td>\n",
       "      <td>N</td>\n",
       "      <td>Y</td>\n",
       "      <td>N</td>\n",
       "      <td>N</td>\n",
       "      <td>1.4</td>\n",
       "      <td>277.0</td>\n",
       "      <td>2.97</td>\n",
       "      <td>121.0</td>\n",
       "      <td>1110.0</td>\n",
       "      <td>125.00</td>\n",
       "      <td>126.0</td>\n",
       "      <td>221.0</td>\n",
       "      <td>9.8</td>\n",
       "      <td>1.0</td>\n",
       "    </tr>\n",
       "    <tr>\n",
       "      <th>...</th>\n",
       "      <td>...</td>\n",
       "      <td>...</td>\n",
       "      <td>...</td>\n",
       "      <td>...</td>\n",
       "      <td>...</td>\n",
       "      <td>...</td>\n",
       "      <td>...</td>\n",
       "      <td>...</td>\n",
       "      <td>...</td>\n",
       "      <td>...</td>\n",
       "      <td>...</td>\n",
       "      <td>...</td>\n",
       "      <td>...</td>\n",
       "      <td>...</td>\n",
       "      <td>...</td>\n",
       "      <td>...</td>\n",
       "      <td>...</td>\n",
       "      <td>...</td>\n",
       "      <td>...</td>\n",
       "    </tr>\n",
       "    <tr>\n",
       "      <th>5266</th>\n",
       "      <td>13171</td>\n",
       "      <td>2870</td>\n",
       "      <td>Placebo</td>\n",
       "      <td>12279</td>\n",
       "      <td>F</td>\n",
       "      <td>N</td>\n",
       "      <td>N</td>\n",
       "      <td>N</td>\n",
       "      <td>N</td>\n",
       "      <td>1.3</td>\n",
       "      <td>302.0</td>\n",
       "      <td>3.43</td>\n",
       "      <td>75.0</td>\n",
       "      <td>1345.0</td>\n",
       "      <td>145.00</td>\n",
       "      <td>44.0</td>\n",
       "      <td>181.0</td>\n",
       "      <td>10.6</td>\n",
       "      <td>3.0</td>\n",
       "    </tr>\n",
       "    <tr>\n",
       "      <th>5267</th>\n",
       "      <td>13172</td>\n",
       "      <td>1770</td>\n",
       "      <td>Placebo</td>\n",
       "      <td>24803</td>\n",
       "      <td>F</td>\n",
       "      <td>N</td>\n",
       "      <td>N</td>\n",
       "      <td>N</td>\n",
       "      <td>N</td>\n",
       "      <td>0.5</td>\n",
       "      <td>219.0</td>\n",
       "      <td>4.09</td>\n",
       "      <td>121.0</td>\n",
       "      <td>663.0</td>\n",
       "      <td>79.05</td>\n",
       "      <td>94.0</td>\n",
       "      <td>311.0</td>\n",
       "      <td>9.7</td>\n",
       "      <td>3.0</td>\n",
       "    </tr>\n",
       "    <tr>\n",
       "      <th>5268</th>\n",
       "      <td>13173</td>\n",
       "      <td>3707</td>\n",
       "      <td>D-penicillamine</td>\n",
       "      <td>16990</td>\n",
       "      <td>F</td>\n",
       "      <td>N</td>\n",
       "      <td>Y</td>\n",
       "      <td>N</td>\n",
       "      <td>N</td>\n",
       "      <td>0.8</td>\n",
       "      <td>315.0</td>\n",
       "      <td>4.09</td>\n",
       "      <td>13.0</td>\n",
       "      <td>1637.0</td>\n",
       "      <td>170.50</td>\n",
       "      <td>70.0</td>\n",
       "      <td>426.0</td>\n",
       "      <td>10.9</td>\n",
       "      <td>3.0</td>\n",
       "    </tr>\n",
       "    <tr>\n",
       "      <th>5269</th>\n",
       "      <td>13174</td>\n",
       "      <td>1216</td>\n",
       "      <td>Placebo</td>\n",
       "      <td>11773</td>\n",
       "      <td>F</td>\n",
       "      <td>N</td>\n",
       "      <td>N</td>\n",
       "      <td>N</td>\n",
       "      <td>N</td>\n",
       "      <td>0.7</td>\n",
       "      <td>329.0</td>\n",
       "      <td>3.80</td>\n",
       "      <td>52.0</td>\n",
       "      <td>678.0</td>\n",
       "      <td>57.00</td>\n",
       "      <td>126.0</td>\n",
       "      <td>306.0</td>\n",
       "      <td>10.2</td>\n",
       "      <td>1.0</td>\n",
       "    </tr>\n",
       "    <tr>\n",
       "      <th>5270</th>\n",
       "      <td>13175</td>\n",
       "      <td>2272</td>\n",
       "      <td>D-penicillamine</td>\n",
       "      <td>21600</td>\n",
       "      <td>F</td>\n",
       "      <td>N</td>\n",
       "      <td>N</td>\n",
       "      <td>N</td>\n",
       "      <td>N</td>\n",
       "      <td>2.0</td>\n",
       "      <td>232.0</td>\n",
       "      <td>3.42</td>\n",
       "      <td>18.0</td>\n",
       "      <td>1636.0</td>\n",
       "      <td>170.50</td>\n",
       "      <td>83.0</td>\n",
       "      <td>213.0</td>\n",
       "      <td>13.6</td>\n",
       "      <td>2.0</td>\n",
       "    </tr>\n",
       "  </tbody>\n",
       "</table>\n",
       "<p>5271 rows × 19 columns</p>\n",
       "</div>"
      ],
      "text/plain": [
       "         id  N_Days             Drug    Age Sex Ascites Hepatomegaly Spiders  \\\n",
       "0      7905    3839  D-penicillamine  19724   F       N            Y       N   \n",
       "1      7906    2468  D-penicillamine  14975   F       N            N       N   \n",
       "2      7907      51          Placebo  13149   F       N            Y       N   \n",
       "3      7908    2330  D-penicillamine  20510   F       N            N       N   \n",
       "4      7909    1615  D-penicillamine  21904   F       N            Y       N   \n",
       "...     ...     ...              ...    ...  ..     ...          ...     ...   \n",
       "5266  13171    2870          Placebo  12279   F       N            N       N   \n",
       "5267  13172    1770          Placebo  24803   F       N            N       N   \n",
       "5268  13173    3707  D-penicillamine  16990   F       N            Y       N   \n",
       "5269  13174    1216          Placebo  11773   F       N            N       N   \n",
       "5270  13175    2272  D-penicillamine  21600   F       N            N       N   \n",
       "\n",
       "     Edema  Bilirubin  Cholesterol  Albumin  Copper  Alk_Phos    SGOT  \\\n",
       "0        N        1.2        546.0     3.37    65.0    1636.0  151.90   \n",
       "1        N        1.1        660.0     4.22    94.0    1257.0  151.90   \n",
       "2        Y        2.0        151.0     2.96    46.0     961.0   69.75   \n",
       "3        N        0.6        293.0     3.85    40.0     554.0  125.55   \n",
       "4        N        1.4        277.0     2.97   121.0    1110.0  125.00   \n",
       "...    ...        ...          ...      ...     ...       ...     ...   \n",
       "5266     N        1.3        302.0     3.43    75.0    1345.0  145.00   \n",
       "5267     N        0.5        219.0     4.09   121.0     663.0   79.05   \n",
       "5268     N        0.8        315.0     4.09    13.0    1637.0  170.50   \n",
       "5269     N        0.7        329.0     3.80    52.0     678.0   57.00   \n",
       "5270     N        2.0        232.0     3.42    18.0    1636.0  170.50   \n",
       "\n",
       "      Tryglicerides  Platelets  Prothrombin  Stage  \n",
       "0              90.0      430.0         10.6    2.0  \n",
       "1             155.0      227.0         10.0    2.0  \n",
       "2             101.0      213.0         13.0    4.0  \n",
       "3              56.0      270.0         10.6    2.0  \n",
       "4             126.0      221.0          9.8    1.0  \n",
       "...             ...        ...          ...    ...  \n",
       "5266           44.0      181.0         10.6    3.0  \n",
       "5267           94.0      311.0          9.7    3.0  \n",
       "5268           70.0      426.0         10.9    3.0  \n",
       "5269          126.0      306.0         10.2    1.0  \n",
       "5270           83.0      213.0         13.6    2.0  \n",
       "\n",
       "[5271 rows x 19 columns]"
      ]
     },
     "execution_count": 35,
     "metadata": {},
     "output_type": "execute_result"
    }
   ],
   "source": [
    "dataset"
   ]
  },
  {
   "cell_type": "code",
   "execution_count": 36,
   "id": "580127f9",
   "metadata": {},
   "outputs": [],
   "source": [
    "dataset['Ascites']=encoder.fit_transform(dataset['Ascites'])\n",
    "dataset['Hepatomegaly']=encoder.fit_transform(dataset['Hepatomegaly'])\n",
    "dataset['Spiders']=encoder.fit_transform(dataset['Spiders'])\n",
    "dataset['Edema']=encoder.fit_transform(dataset['Edema'])\n",
    "dataset['Sex']=encoder.fit_transform(dataset['Sex'])\n",
    "dataset['Drug']=encoder.fit_transform(dataset['Drug'])"
   ]
  },
  {
   "cell_type": "code",
   "execution_count": 138,
   "id": "1c323484",
   "metadata": {},
   "outputs": [
    {
     "name": "stderr",
     "output_type": "stream",
     "text": [
      "C:\\Users\\RICHARD\\anaconda3\\lib\\site-packages\\sklearn\\base.py:450: UserWarning: X does not have valid feature names, but StandardScaler was fitted with feature names\n",
      "  warnings.warn(\n"
     ]
    },
    {
     "name": "stdout",
     "output_type": "stream",
     "text": [
      "[0 0 2 ... 0 0 2]\n"
     ]
    }
   ],
   "source": [
    "dataset_as_np= np.asarray(dataset)\n",
    "\n",
    "#Standardize the dataset\n",
    "\n",
    "predScale = scaler.transform(dataset_as_np)\n",
    "\n",
    "prediction1= model.predict(predScale)\n",
    "print(prediction1)"
   ]
  },
  {
   "cell_type": "code",
   "execution_count": 139,
   "id": "f35d42b2",
   "metadata": {},
   "outputs": [],
   "source": [
    "prediction1= pd.DataFrame(prediction1, columns=['Status'])"
   ]
  },
  {
   "cell_type": "code",
   "execution_count": 140,
   "id": "0d79ef33",
   "metadata": {},
   "outputs": [
    {
     "data": {
      "text/html": [
       "<div>\n",
       "<style scoped>\n",
       "    .dataframe tbody tr th:only-of-type {\n",
       "        vertical-align: middle;\n",
       "    }\n",
       "\n",
       "    .dataframe tbody tr th {\n",
       "        vertical-align: top;\n",
       "    }\n",
       "\n",
       "    .dataframe thead th {\n",
       "        text-align: right;\n",
       "    }\n",
       "</style>\n",
       "<table border=\"1\" class=\"dataframe\">\n",
       "  <thead>\n",
       "    <tr style=\"text-align: right;\">\n",
       "      <th></th>\n",
       "      <th>Status</th>\n",
       "    </tr>\n",
       "  </thead>\n",
       "  <tbody>\n",
       "    <tr>\n",
       "      <th>0</th>\n",
       "      <td>0</td>\n",
       "    </tr>\n",
       "    <tr>\n",
       "      <th>1</th>\n",
       "      <td>0</td>\n",
       "    </tr>\n",
       "    <tr>\n",
       "      <th>2</th>\n",
       "      <td>2</td>\n",
       "    </tr>\n",
       "    <tr>\n",
       "      <th>3</th>\n",
       "      <td>0</td>\n",
       "    </tr>\n",
       "    <tr>\n",
       "      <th>4</th>\n",
       "      <td>0</td>\n",
       "    </tr>\n",
       "    <tr>\n",
       "      <th>...</th>\n",
       "      <td>...</td>\n",
       "    </tr>\n",
       "    <tr>\n",
       "      <th>5266</th>\n",
       "      <td>0</td>\n",
       "    </tr>\n",
       "    <tr>\n",
       "      <th>5267</th>\n",
       "      <td>0</td>\n",
       "    </tr>\n",
       "    <tr>\n",
       "      <th>5268</th>\n",
       "      <td>0</td>\n",
       "    </tr>\n",
       "    <tr>\n",
       "      <th>5269</th>\n",
       "      <td>0</td>\n",
       "    </tr>\n",
       "    <tr>\n",
       "      <th>5270</th>\n",
       "      <td>2</td>\n",
       "    </tr>\n",
       "  </tbody>\n",
       "</table>\n",
       "<p>5271 rows × 1 columns</p>\n",
       "</div>"
      ],
      "text/plain": [
       "      Status\n",
       "0          0\n",
       "1          0\n",
       "2          2\n",
       "3          0\n",
       "4          0\n",
       "...      ...\n",
       "5266       0\n",
       "5267       0\n",
       "5268       0\n",
       "5269       0\n",
       "5270       2\n",
       "\n",
       "[5271 rows x 1 columns]"
      ]
     },
     "execution_count": 140,
     "metadata": {},
     "output_type": "execute_result"
    }
   ],
   "source": [
    "prediction1"
   ]
  },
  {
   "cell_type": "code",
   "execution_count": 141,
   "id": "835a0ddd",
   "metadata": {},
   "outputs": [],
   "source": [
    "new_dataset= dataset.join(prediction1)"
   ]
  },
  {
   "cell_type": "code",
   "execution_count": 142,
   "id": "e7b1a03e",
   "metadata": {},
   "outputs": [
    {
     "data": {
      "text/plain": [
       "array([0, 2, 1])"
      ]
     },
     "execution_count": 142,
     "metadata": {},
     "output_type": "execute_result"
    }
   ],
   "source": [
    "new_dataset['Status'].unique()"
   ]
  },
  {
   "cell_type": "code",
   "execution_count": null,
   "id": "dbc56de9",
   "metadata": {},
   "outputs": [],
   "source": []
  }
 ],
 "metadata": {
  "kernelspec": {
   "display_name": "Python 3 (ipykernel)",
   "language": "python",
   "name": "python3"
  },
  "language_info": {
   "codemirror_mode": {
    "name": "ipython",
    "version": 3
   },
   "file_extension": ".py",
   "mimetype": "text/x-python",
   "name": "python",
   "nbconvert_exporter": "python",
   "pygments_lexer": "ipython3",
   "version": "3.9.12"
  },
  "varInspector": {
   "cols": {
    "lenName": 16,
    "lenType": 16,
    "lenVar": 40
   },
   "kernels_config": {
    "python": {
     "delete_cmd_postfix": "",
     "delete_cmd_prefix": "del ",
     "library": "var_list.py",
     "varRefreshCmd": "print(var_dic_list())"
    },
    "r": {
     "delete_cmd_postfix": ") ",
     "delete_cmd_prefix": "rm(",
     "library": "var_list.r",
     "varRefreshCmd": "cat(var_dic_list()) "
    }
   },
   "types_to_exclude": [
    "module",
    "function",
    "builtin_function_or_method",
    "instance",
    "_Feature"
   ],
   "window_display": false
  }
 },
 "nbformat": 4,
 "nbformat_minor": 5
}
